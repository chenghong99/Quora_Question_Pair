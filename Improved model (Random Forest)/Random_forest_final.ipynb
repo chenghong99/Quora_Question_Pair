{
 "cells": [
  {
   "cell_type": "code",
   "execution_count": 1,
   "id": "e0910f47",
   "metadata": {},
   "outputs": [],
   "source": [
    "import numpy as np \n",
    "import pandas as pd\n",
    "from sklearn.tree import DecisionTreeClassifier\n",
    "from sklearn.ensemble import RandomForestClassifier\n",
    "from sklearn.metrics import accuracy_score\n",
    "from sklearn.model_selection import GridSearchCV, StratifiedKFold, train_test_split, RandomizedSearchCV, RepeatedStratifiedKFold\n",
    "from sklearn.metrics import classification_report,confusion_matrix\n",
    "from sklearn.metrics import balanced_accuracy_score\n",
    "from sklearn.metrics import confusion_matrix, ConfusionMatrixDisplay"
   ]
  },
  {
   "cell_type": "code",
   "execution_count": 2,
   "id": "e030252d",
   "metadata": {},
   "outputs": [
    {
     "data": {
      "text/html": [
       "<div>\n",
       "<style scoped>\n",
       "    .dataframe tbody tr th:only-of-type {\n",
       "        vertical-align: middle;\n",
       "    }\n",
       "\n",
       "    .dataframe tbody tr th {\n",
       "        vertical-align: top;\n",
       "    }\n",
       "\n",
       "    .dataframe thead th {\n",
       "        text-align: right;\n",
       "    }\n",
       "</style>\n",
       "<table border=\"1\" class=\"dataframe\">\n",
       "  <thead>\n",
       "    <tr style=\"text-align: right;\">\n",
       "      <th></th>\n",
       "      <th>qid1</th>\n",
       "      <th>qid2</th>\n",
       "      <th>question1</th>\n",
       "      <th>question2</th>\n",
       "      <th>is_duplicate</th>\n",
       "      <th>clean_q1</th>\n",
       "      <th>clean_q2</th>\n",
       "      <th>total_words_q1</th>\n",
       "      <th>total_words_q2</th>\n",
       "      <th>num_common_words</th>\n",
       "      <th>common_words_percentage</th>\n",
       "      <th>fuzz_ratio</th>\n",
       "      <th>fuzz_partial_ratio</th>\n",
       "      <th>fuzz_token_set_ratio</th>\n",
       "      <th>fuzz_token_sort_ratio</th>\n",
       "      <th>first_word_same</th>\n",
       "      <th>last_word_same</th>\n",
       "      <th>length_difference</th>\n",
       "      <th>cosine_similarity</th>\n",
       "    </tr>\n",
       "    <tr>\n",
       "      <th>id</th>\n",
       "      <th></th>\n",
       "      <th></th>\n",
       "      <th></th>\n",
       "      <th></th>\n",
       "      <th></th>\n",
       "      <th></th>\n",
       "      <th></th>\n",
       "      <th></th>\n",
       "      <th></th>\n",
       "      <th></th>\n",
       "      <th></th>\n",
       "      <th></th>\n",
       "      <th></th>\n",
       "      <th></th>\n",
       "      <th></th>\n",
       "      <th></th>\n",
       "      <th></th>\n",
       "      <th></th>\n",
       "      <th></th>\n",
       "    </tr>\n",
       "  </thead>\n",
       "  <tbody>\n",
       "    <tr>\n",
       "      <th>183287</th>\n",
       "      <td>280315</td>\n",
       "      <td>256544</td>\n",
       "      <td>What are some words that rhyme with home?</td>\n",
       "      <td>What are some words that rhyme with \"on\"?</td>\n",
       "      <td>0</td>\n",
       "      <td>word rhyme home</td>\n",
       "      <td>word rhyme on</td>\n",
       "      <td>3</td>\n",
       "      <td>3</td>\n",
       "      <td>2</td>\n",
       "      <td>0.500000</td>\n",
       "      <td>86</td>\n",
       "      <td>92</td>\n",
       "      <td>87</td>\n",
       "      <td>86</td>\n",
       "      <td>1</td>\n",
       "      <td>0</td>\n",
       "      <td>0</td>\n",
       "      <td>0.737321</td>\n",
       "    </tr>\n",
       "    <tr>\n",
       "      <th>142423</th>\n",
       "      <td>225865</td>\n",
       "      <td>225866</td>\n",
       "      <td>Is there a relationship between not having dip...</td>\n",
       "      <td>Did the loyalty of Indians towards their work ...</td>\n",
       "      <td>0</td>\n",
       "      <td>relationship dipole dipole force molecular str...</td>\n",
       "      <td>loyalty indian towards work reduce mncs entere...</td>\n",
       "      <td>9</td>\n",
       "      <td>8</td>\n",
       "      <td>0</td>\n",
       "      <td>0.000000</td>\n",
       "      <td>24</td>\n",
       "      <td>40</td>\n",
       "      <td>24</td>\n",
       "      <td>27</td>\n",
       "      <td>0</td>\n",
       "      <td>0</td>\n",
       "      <td>1</td>\n",
       "      <td>0.000000</td>\n",
       "    </tr>\n",
       "    <tr>\n",
       "      <th>52519</th>\n",
       "      <td>92973</td>\n",
       "      <td>92974</td>\n",
       "      <td>How are bodies of water named? And who gets to...</td>\n",
       "      <td>How does water in the ocean and sea evaporate?...</td>\n",
       "      <td>0</td>\n",
       "      <td>body water named get decide ex pacific ocean s...</td>\n",
       "      <td>water ocean sea evaporate temperature sun ray ...</td>\n",
       "      <td>11</td>\n",
       "      <td>12</td>\n",
       "      <td>3</td>\n",
       "      <td>0.150000</td>\n",
       "      <td>30</td>\n",
       "      <td>28</td>\n",
       "      <td>42</td>\n",
       "      <td>48</td>\n",
       "      <td>0</td>\n",
       "      <td>0</td>\n",
       "      <td>1</td>\n",
       "      <td>0.265837</td>\n",
       "    </tr>\n",
       "    <tr>\n",
       "      <th>195852</th>\n",
       "      <td>296412</td>\n",
       "      <td>296413</td>\n",
       "      <td>What is the average salary of front-end develo...</td>\n",
       "      <td>What is the average salary of a UI/UX designer...</td>\n",
       "      <td>0</td>\n",
       "      <td>average salary front end developer india</td>\n",
       "      <td>average salary ui ux designer front end develo...</td>\n",
       "      <td>6</td>\n",
       "      <td>9</td>\n",
       "      <td>6</td>\n",
       "      <td>0.666667</td>\n",
       "      <td>84</td>\n",
       "      <td>70</td>\n",
       "      <td>100</td>\n",
       "      <td>84</td>\n",
       "      <td>1</td>\n",
       "      <td>1</td>\n",
       "      <td>3</td>\n",
       "      <td>0.730334</td>\n",
       "    </tr>\n",
       "    <tr>\n",
       "      <th>63391</th>\n",
       "      <td>110328</td>\n",
       "      <td>110329</td>\n",
       "      <td>Will it be possible for an engineering backgro...</td>\n",
       "      <td>How do I prepare for entrance exams to pursue ...</td>\n",
       "      <td>0</td>\n",
       "      <td>possible engineering background student m a ph...</td>\n",
       "      <td>prepare entrance exam pursue m a mass communic...</td>\n",
       "      <td>14</td>\n",
       "      <td>10</td>\n",
       "      <td>6</td>\n",
       "      <td>0.333333</td>\n",
       "      <td>24</td>\n",
       "      <td>40</td>\n",
       "      <td>69</td>\n",
       "      <td>64</td>\n",
       "      <td>0</td>\n",
       "      <td>0</td>\n",
       "      <td>4</td>\n",
       "      <td>0.345218</td>\n",
       "    </tr>\n",
       "  </tbody>\n",
       "</table>\n",
       "</div>"
      ],
      "text/plain": [
       "          qid1    qid2                                          question1  \\\n",
       "id                                                                          \n",
       "183287  280315  256544          What are some words that rhyme with home?   \n",
       "142423  225865  225866  Is there a relationship between not having dip...   \n",
       "52519    92973   92974  How are bodies of water named? And who gets to...   \n",
       "195852  296412  296413  What is the average salary of front-end develo...   \n",
       "63391   110328  110329  Will it be possible for an engineering backgro...   \n",
       "\n",
       "                                                question2  is_duplicate  \\\n",
       "id                                                                        \n",
       "183287          What are some words that rhyme with \"on\"?             0   \n",
       "142423  Did the loyalty of Indians towards their work ...             0   \n",
       "52519   How does water in the ocean and sea evaporate?...             0   \n",
       "195852  What is the average salary of a UI/UX designer...             0   \n",
       "63391   How do I prepare for entrance exams to pursue ...             0   \n",
       "\n",
       "                                                 clean_q1  \\\n",
       "id                                                          \n",
       "183287                                    word rhyme home   \n",
       "142423  relationship dipole dipole force molecular str...   \n",
       "52519   body water named get decide ex pacific ocean s...   \n",
       "195852           average salary front end developer india   \n",
       "63391   possible engineering background student m a ph...   \n",
       "\n",
       "                                                 clean_q2  total_words_q1  \\\n",
       "id                                                                          \n",
       "183287                                      word rhyme on               3   \n",
       "142423  loyalty indian towards work reduce mncs entere...               9   \n",
       "52519   water ocean sea evaporate temperature sun ray ...              11   \n",
       "195852  average salary ui ux designer front end develo...               6   \n",
       "63391   prepare entrance exam pursue m a mass communic...              14   \n",
       "\n",
       "        total_words_q2  num_common_words  common_words_percentage  fuzz_ratio  \\\n",
       "id                                                                              \n",
       "183287               3                 2                 0.500000          86   \n",
       "142423               8                 0                 0.000000          24   \n",
       "52519               12                 3                 0.150000          30   \n",
       "195852               9                 6                 0.666667          84   \n",
       "63391               10                 6                 0.333333          24   \n",
       "\n",
       "        fuzz_partial_ratio  fuzz_token_set_ratio  fuzz_token_sort_ratio  \\\n",
       "id                                                                        \n",
       "183287                  92                    87                     86   \n",
       "142423                  40                    24                     27   \n",
       "52519                   28                    42                     48   \n",
       "195852                  70                   100                     84   \n",
       "63391                   40                    69                     64   \n",
       "\n",
       "        first_word_same  last_word_same  length_difference  cosine_similarity  \n",
       "id                                                                             \n",
       "183287                1               0                  0           0.737321  \n",
       "142423                0               0                  1           0.000000  \n",
       "52519                 0               0                  1           0.265837  \n",
       "195852                1               1                  3           0.730334  \n",
       "63391                 0               0                  4           0.345218  "
      ]
     },
     "execution_count": 2,
     "metadata": {},
     "output_type": "execute_result"
    }
   ],
   "source": [
    "# Output csv produced from the processed data set \n",
    "data = pd.read_csv('final_dataset.csv', index_col='id')\n",
    "data.drop(columns='Unnamed: 0', inplace=True)\n",
    "data.dropna(inplace = True)\n",
    "data.head()"
   ]
  },
  {
   "cell_type": "code",
   "execution_count": 3,
   "id": "716b1010",
   "metadata": {},
   "outputs": [],
   "source": [
    "features = ['total_words_q1', 'total_words_q2', 'num_common_words', 'common_words_percentage',\n",
    "            'fuzz_ratio', 'fuzz_partial_ratio', 'fuzz_token_set_ratio', 'fuzz_token_sort_ratio', \n",
    "            'first_word_same', 'last_word_same', 'length_difference', 'cosine_similarity']\n",
    "X = data[features]\n",
    "y = data['is_duplicate']"
   ]
  },
  {
   "cell_type": "code",
   "execution_count": 4,
   "id": "4afd63d2",
   "metadata": {},
   "outputs": [],
   "source": [
    "X_train,X_test,y_train,y_test = train_test_split(X.values,y.values,test_size=0.2,random_state=4)"
   ]
  },
  {
   "cell_type": "code",
   "execution_count": 6,
   "id": "4287172b",
   "metadata": {},
   "outputs": [],
   "source": [
    "rf_param_grid = {'criterion': ('gini', 'entropy'), \n",
    "                 'max_depth': list(range(1, 21)),\n",
    "                'max_features' : ('sqrt', 'log2')}\n",
    "\n",
    "rf_grid = GridSearchCV(RandomForestClassifier(random_state=4), rf_param_grid, cv = 5, scoring = 'balanced_accuracy')\n",
    "rf_grid.fit(X_train, y_train)"
   ]
  },
  {
   "cell_type": "code",
   "execution_count": 7,
   "id": "2310ef6e",
   "metadata": {},
   "outputs": [],
   "source": [
    "print(rf_grid.best_estimator_)\n",
    "print(rf_grid.best_params_)\n",
    "print(rf_grid.best_score_)"
   ]
  },
  {
   "cell_type": "code",
   "execution_count": 8,
   "id": "009f1f7e",
   "metadata": {},
   "outputs": [
    {
     "name": "stdout",
     "output_type": "stream",
     "text": [
      "              precision    recall  f1-score   support\n",
      "\n",
      "           0       0.70      0.78      0.74     26915\n",
      "           1       0.80      0.73      0.76     32788\n",
      "\n",
      "    accuracy                           0.75     59703\n",
      "   macro avg       0.75      0.75      0.75     59703\n",
      "weighted avg       0.76      0.75      0.75     59703\n",
      "\n"
     ]
    }
   ],
   "source": [
    "rfc_default=RandomForestClassifier()\n",
    "rfc_default.fit(X_train,y_train)\n",
    "prediction1=rfc_default.predict(X_test)\n",
    "print(classification_report(prediction1,y_test))"
   ]
  },
  {
   "cell_type": "code",
   "execution_count": 9,
   "id": "be308519",
   "metadata": {},
   "outputs": [
    {
     "name": "stdout",
     "output_type": "stream",
     "text": [
      "              precision    recall  f1-score   support\n",
      "\n",
      "           0       0.67      0.82      0.74     24404\n",
      "           1       0.85      0.72      0.78     35299\n",
      "\n",
      "    accuracy                           0.76     59703\n",
      "   macro avg       0.76      0.77      0.76     59703\n",
      "weighted avg       0.78      0.76      0.76     59703\n",
      "\n"
     ]
    }
   ],
   "source": [
    "rfc=RandomForestClassifier(max_depth=19 ,criterion= 'gini', n_estimators=500, max_features = 'sqrt')\n",
    "rfc.fit(X_train,y_train)\n",
    "prediction2=rfc.predict(X_test)\n",
    "print(classification_report(prediction2,y_test))"
   ]
  },
  {
   "cell_type": "code",
   "execution_count": 10,
   "id": "8e4393d2",
   "metadata": {},
   "outputs": [
    {
     "data": {
      "text/plain": [
       "<sklearn.metrics._plot.confusion_matrix.ConfusionMatrixDisplay at 0x23dff7f04f0>"
      ]
     },
     "execution_count": 10,
     "metadata": {},
     "output_type": "execute_result"
    },
    {
     "data": {
      "image/png": "[encoded data removed]",
      "text/plain": [
       "<Figure size 432x288 with 2 Axes>"
      ]
     },
     "metadata": {
      "needs_background": "light"
     },
     "output_type": "display_data"
    }
   ],
   "source": [
    "cm = confusion_matrix(y_test, prediction2, labels=rfc.classes_)\n",
    "disp = ConfusionMatrixDisplay(confusion_matrix=cm, display_labels=rfc.classes_)\n",
    "disp.plot()"
   ]
  },
  {
   "cell_type": "code",
   "execution_count": 14,
   "id": "03954e10",
   "metadata": {},
   "outputs": [
    {
     "data": {
      "text/plain": [
       "<AxesSubplot:>"
      ]
     },
     "execution_count": 14,
     "metadata": {},
     "output_type": "execute_result"
    },
    {
     "data": {
      "image/png": "[encoded data removed]",
      "text/plain": [
       "<Figure size 432x288 with 1 Axes>"
      ]
     },
     "metadata": {
      "needs_background": "light"
     },
     "output_type": "display_data"
    }
   ],
   "source": [
    "feats = {} # a dict to hold feature_name: feature_importance\n",
    "for feature, importance in zip(X.columns, rfc.feature_importances_):\n",
    "    feats[feature] = importance #add the name/value pair \n",
    "\n",
    "importances = pd.DataFrame.from_dict(feats, orient='index').rename(columns={0: 'Gini-importance'})\n",
    "importances.sort_values(by='Gini-importance').plot(kind='bar', rot=90)"
   ]
  }
 ],
 "metadata": {
  "kernelspec": {
   "display_name": "Python 3 (ipykernel)",
   "language": "python",
   "name": "python3"
  },
  "language_info": {
   "codemirror_mode": {
    "name": "ipython",
    "version": 3
   },
   "file_extension": ".py",
   "mimetype": "text/x-python",
   "name": "python",
   "nbconvert_exporter": "python",
   "pygments_lexer": "ipython3",
   "version": "3.8.7"
  }
 },
 "nbformat": 4,
 "nbformat_minor": 5
}
